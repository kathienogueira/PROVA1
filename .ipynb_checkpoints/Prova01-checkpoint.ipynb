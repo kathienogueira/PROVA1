{
 "cells": [
  {
   "cell_type": "code",
   "execution_count": 9,
   "id": "b46c567f-97d0-4be4-b36b-f7ed0cd03c93",
   "metadata": {},
   "outputs": [
    {
     "name": "stdin",
     "output_type": "stream",
     "text": [
      "Digite o valor 1:  90\n",
      "Digite o valor 2:  30\n",
      "Digite o valor 3:  60\n"
     ]
    },
    {
     "name": "stdout",
     "output_type": "stream",
     "text": [
      "Média aritmética: 75.0\n"
     ]
    }
   ],
   "source": [
    "#Você deve receber 3 valores inteiros positivos. E deve retornar a média aritmética dos dois maiores valores.\n",
    "\n",
    "valor1 = int(input(\"Digite o valor 1: \"))\n",
    "valor2 = int(input(\"Digite o valor 2: \"))\n",
    "valor3 = int(input(\"Digite o valor 3: \"))\n",
    "\n",
    "if (valor1 >= valor2) or (valor1 >= valor3):\n",
    "    maior_valor1 = valor1\n",
    "\n",
    "elif (valor2 >= valor1) or (valor2 >= valor3):\n",
    "    maior_valor1 = valor2\n",
    "\n",
    "if (valor3 >= valor2) or (valor3 >= valor1):\n",
    "    maior_valor2 = valor3\n",
    "    media_aritmetica = (maior_valor1 + maior_valor2) / 2\n",
    "    print(f\"Média aritmética: {media_aritmetica}\")\n",
    "\n",
    "elif (valor2 >= valor1) or (valor2 >= valor3):\n",
    "    maior_valor2 = valor2\n",
    "    media_aritmetica = (maior_valor1 + maior_valor2) / 2\n",
    "    print(f\"Média aritmética: {media_aritmetica}\")"
   ]
  },
  {
   "cell_type": "code",
   "execution_count": null,
   "id": "b2a43e30-b19d-4df0-b7f4-861740871feb",
   "metadata": {},
   "outputs": [],
   "source": []
  }
 ],
 "metadata": {
  "kernelspec": {
   "display_name": "Python 3 (ipykernel)",
   "language": "python",
   "name": "python3"
  },
  "language_info": {
   "codemirror_mode": {
    "name": "ipython",
    "version": 3
   },
   "file_extension": ".py",
   "mimetype": "text/x-python",
   "name": "python",
   "nbconvert_exporter": "python",
   "pygments_lexer": "ipython3",
   "version": "3.11.7"
  }
 },
 "nbformat": 4,
 "nbformat_minor": 5
}
